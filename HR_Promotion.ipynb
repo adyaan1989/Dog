{
  "nbformat": 4,
  "nbformat_minor": 0,
  "metadata": {
    "colab": {
      "provenance": [],
      "gpuType": "T4",
      "mount_file_id": "1VPYUZLADdP2zn0qDK_QghWwt0X28EBOu",
      "authorship_tag": "ABX9TyMqeTcPqqzIWXn+buxAq1dM",
      "include_colab_link": true
    },
    "kernelspec": {
      "name": "python3",
      "display_name": "Python 3"
    },
    "language_info": {
      "name": "python"
    },
    "accelerator": "GPU"
  },
  "cells": [
    {
      "cell_type": "markdown",
      "metadata": {
        "id": "view-in-github",
        "colab_type": "text"
      },
      "source": [
        "<a href=\"https://colab.research.google.com/github/adyaan1989/Dog/blob/main/HR_Promotion.ipynb\" target=\"_parent\"><img src=\"https://colab.research.google.com/assets/colab-badge.svg\" alt=\"Open In Colab\"/></a>"
      ]
    },
    {
      "cell_type": "code",
      "execution_count": 1,
      "metadata": {
        "id": "wJiWZftO-HDm"
      },
      "outputs": [],
      "source": [
        "import pandas as pd\n",
        "import numpy as np\n",
        "# for ploting\n",
        "import matplotlib.pyplot as plt\n",
        "%matplotlib inline\n",
        "from sklearn.model_selection import train_test_split\n",
        "import tensorflow as tf\n",
        "# feature scaling\n",
        "from sklearn.preprocessing import MinMaxScaler, StandardScaler\n"
      ]
    },
    {
      "cell_type": "code",
      "source": [
        "# load the dataset\n",
        "train = pd.read_csv(\"/content/drive/MyDrive/HR_Promotion/train.csv\")\n",
        "#test = pd.read_csv(\"/content/drive/MyDrive/HR_Promotion/test.csv\")\n"
      ],
      "metadata": {
        "id": "vNYGP5Bd-LhA"
      },
      "execution_count": 70,
      "outputs": []
    },
    {
      "cell_type": "code",
      "source": [
        "train.head()"
      ],
      "metadata": {
        "colab": {
          "base_uri": "https://localhost:8080/",
          "height": 295
        },
        "id": "ragxgiUhAZgx",
        "outputId": "e34dadaa-08d2-4d99-eea8-a42eca29ecec"
      },
      "execution_count": 71,
      "outputs": [
        {
          "output_type": "execute_result",
          "data": {
            "text/plain": [
              "   employee_id         department     region         education gender  \\\n",
              "0        65438  Sales & Marketing   region_7  Master's & above      f   \n",
              "1        65141         Operations  region_22        Bachelor's      m   \n",
              "2         7513  Sales & Marketing  region_19        Bachelor's      m   \n",
              "3         2542  Sales & Marketing  region_23        Bachelor's      m   \n",
              "4        48945         Technology  region_26        Bachelor's      m   \n",
              "\n",
              "  recruitment_channel  no_of_trainings  age  previous_year_rating  \\\n",
              "0            sourcing                1   35                   5.0   \n",
              "1               other                1   30                   5.0   \n",
              "2            sourcing                1   34                   3.0   \n",
              "3               other                2   39                   1.0   \n",
              "4               other                1   45                   3.0   \n",
              "\n",
              "   length_of_service  KPIs_met >80%  awards_won?  avg_training_score  \\\n",
              "0                  8              1            0                  49   \n",
              "1                  4              0            0                  60   \n",
              "2                  7              0            0                  50   \n",
              "3                 10              0            0                  50   \n",
              "4                  2              0            0                  73   \n",
              "\n",
              "   is_promoted  \n",
              "0            0  \n",
              "1            0  \n",
              "2            0  \n",
              "3            0  \n",
              "4            0  "
            ],
            "text/html": [
              "\n",
              "  <div id=\"df-3c843a05-b2e1-4b9f-b0d9-77481bdc0811\" class=\"colab-df-container\">\n",
              "    <div>\n",
              "<style scoped>\n",
              "    .dataframe tbody tr th:only-of-type {\n",
              "        vertical-align: middle;\n",
              "    }\n",
              "\n",
              "    .dataframe tbody tr th {\n",
              "        vertical-align: top;\n",
              "    }\n",
              "\n",
              "    .dataframe thead th {\n",
              "        text-align: right;\n",
              "    }\n",
              "</style>\n",
              "<table border=\"1\" class=\"dataframe\">\n",
              "  <thead>\n",
              "    <tr style=\"text-align: right;\">\n",
              "      <th></th>\n",
              "      <th>employee_id</th>\n",
              "      <th>department</th>\n",
              "      <th>region</th>\n",
              "      <th>education</th>\n",
              "      <th>gender</th>\n",
              "      <th>recruitment_channel</th>\n",
              "      <th>no_of_trainings</th>\n",
              "      <th>age</th>\n",
              "      <th>previous_year_rating</th>\n",
              "      <th>length_of_service</th>\n",
              "      <th>KPIs_met &gt;80%</th>\n",
              "      <th>awards_won?</th>\n",
              "      <th>avg_training_score</th>\n",
              "      <th>is_promoted</th>\n",
              "    </tr>\n",
              "  </thead>\n",
              "  <tbody>\n",
              "    <tr>\n",
              "      <th>0</th>\n",
              "      <td>65438</td>\n",
              "      <td>Sales &amp; Marketing</td>\n",
              "      <td>region_7</td>\n",
              "      <td>Master's &amp; above</td>\n",
              "      <td>f</td>\n",
              "      <td>sourcing</td>\n",
              "      <td>1</td>\n",
              "      <td>35</td>\n",
              "      <td>5.0</td>\n",
              "      <td>8</td>\n",
              "      <td>1</td>\n",
              "      <td>0</td>\n",
              "      <td>49</td>\n",
              "      <td>0</td>\n",
              "    </tr>\n",
              "    <tr>\n",
              "      <th>1</th>\n",
              "      <td>65141</td>\n",
              "      <td>Operations</td>\n",
              "      <td>region_22</td>\n",
              "      <td>Bachelor's</td>\n",
              "      <td>m</td>\n",
              "      <td>other</td>\n",
              "      <td>1</td>\n",
              "      <td>30</td>\n",
              "      <td>5.0</td>\n",
              "      <td>4</td>\n",
              "      <td>0</td>\n",
              "      <td>0</td>\n",
              "      <td>60</td>\n",
              "      <td>0</td>\n",
              "    </tr>\n",
              "    <tr>\n",
              "      <th>2</th>\n",
              "      <td>7513</td>\n",
              "      <td>Sales &amp; Marketing</td>\n",
              "      <td>region_19</td>\n",
              "      <td>Bachelor's</td>\n",
              "      <td>m</td>\n",
              "      <td>sourcing</td>\n",
              "      <td>1</td>\n",
              "      <td>34</td>\n",
              "      <td>3.0</td>\n",
              "      <td>7</td>\n",
              "      <td>0</td>\n",
              "      <td>0</td>\n",
              "      <td>50</td>\n",
              "      <td>0</td>\n",
              "    </tr>\n",
              "    <tr>\n",
              "      <th>3</th>\n",
              "      <td>2542</td>\n",
              "      <td>Sales &amp; Marketing</td>\n",
              "      <td>region_23</td>\n",
              "      <td>Bachelor's</td>\n",
              "      <td>m</td>\n",
              "      <td>other</td>\n",
              "      <td>2</td>\n",
              "      <td>39</td>\n",
              "      <td>1.0</td>\n",
              "      <td>10</td>\n",
              "      <td>0</td>\n",
              "      <td>0</td>\n",
              "      <td>50</td>\n",
              "      <td>0</td>\n",
              "    </tr>\n",
              "    <tr>\n",
              "      <th>4</th>\n",
              "      <td>48945</td>\n",
              "      <td>Technology</td>\n",
              "      <td>region_26</td>\n",
              "      <td>Bachelor's</td>\n",
              "      <td>m</td>\n",
              "      <td>other</td>\n",
              "      <td>1</td>\n",
              "      <td>45</td>\n",
              "      <td>3.0</td>\n",
              "      <td>2</td>\n",
              "      <td>0</td>\n",
              "      <td>0</td>\n",
              "      <td>73</td>\n",
              "      <td>0</td>\n",
              "    </tr>\n",
              "  </tbody>\n",
              "</table>\n",
              "</div>\n",
              "    <div class=\"colab-df-buttons\">\n",
              "\n",
              "  <div class=\"colab-df-container\">\n",
              "    <button class=\"colab-df-convert\" onclick=\"convertToInteractive('df-3c843a05-b2e1-4b9f-b0d9-77481bdc0811')\"\n",
              "            title=\"Convert this dataframe to an interactive table.\"\n",
              "            style=\"display:none;\">\n",
              "\n",
              "  <svg xmlns=\"http://www.w3.org/2000/svg\" height=\"24px\" viewBox=\"0 -960 960 960\">\n",
              "    <path d=\"M120-120v-720h720v720H120Zm60-500h600v-160H180v160Zm220 220h160v-160H400v160Zm0 220h160v-160H400v160ZM180-400h160v-160H180v160Zm440 0h160v-160H620v160ZM180-180h160v-160H180v160Zm440 0h160v-160H620v160Z\"/>\n",
              "  </svg>\n",
              "    </button>\n",
              "\n",
              "  <style>\n",
              "    .colab-df-container {\n",
              "      display:flex;\n",
              "      gap: 12px;\n",
              "    }\n",
              "\n",
              "    .colab-df-convert {\n",
              "      background-color: #E8F0FE;\n",
              "      border: none;\n",
              "      border-radius: 50%;\n",
              "      cursor: pointer;\n",
              "      display: none;\n",
              "      fill: #1967D2;\n",
              "      height: 32px;\n",
              "      padding: 0 0 0 0;\n",
              "      width: 32px;\n",
              "    }\n",
              "\n",
              "    .colab-df-convert:hover {\n",
              "      background-color: #E2EBFA;\n",
              "      box-shadow: 0px 1px 2px rgba(60, 64, 67, 0.3), 0px 1px 3px 1px rgba(60, 64, 67, 0.15);\n",
              "      fill: #174EA6;\n",
              "    }\n",
              "\n",
              "    .colab-df-buttons div {\n",
              "      margin-bottom: 4px;\n",
              "    }\n",
              "\n",
              "    [theme=dark] .colab-df-convert {\n",
              "      background-color: #3B4455;\n",
              "      fill: #D2E3FC;\n",
              "    }\n",
              "\n",
              "    [theme=dark] .colab-df-convert:hover {\n",
              "      background-color: #434B5C;\n",
              "      box-shadow: 0px 1px 3px 1px rgba(0, 0, 0, 0.15);\n",
              "      filter: drop-shadow(0px 1px 2px rgba(0, 0, 0, 0.3));\n",
              "      fill: #FFFFFF;\n",
              "    }\n",
              "  </style>\n",
              "\n",
              "    <script>\n",
              "      const buttonEl =\n",
              "        document.querySelector('#df-3c843a05-b2e1-4b9f-b0d9-77481bdc0811 button.colab-df-convert');\n",
              "      buttonEl.style.display =\n",
              "        google.colab.kernel.accessAllowed ? 'block' : 'none';\n",
              "\n",
              "      async function convertToInteractive(key) {\n",
              "        const element = document.querySelector('#df-3c843a05-b2e1-4b9f-b0d9-77481bdc0811');\n",
              "        const dataTable =\n",
              "          await google.colab.kernel.invokeFunction('convertToInteractive',\n",
              "                                                    [key], {});\n",
              "        if (!dataTable) return;\n",
              "\n",
              "        const docLinkHtml = 'Like what you see? Visit the ' +\n",
              "          '<a target=\"_blank\" href=https://colab.research.google.com/notebooks/data_table.ipynb>data table notebook</a>'\n",
              "          + ' to learn more about interactive tables.';\n",
              "        element.innerHTML = '';\n",
              "        dataTable['output_type'] = 'display_data';\n",
              "        await google.colab.output.renderOutput(dataTable, element);\n",
              "        const docLink = document.createElement('div');\n",
              "        docLink.innerHTML = docLinkHtml;\n",
              "        element.appendChild(docLink);\n",
              "      }\n",
              "    </script>\n",
              "  </div>\n",
              "\n",
              "\n",
              "<div id=\"df-0bc4b161-2475-42c1-9cd1-2cbde53645fc\">\n",
              "  <button class=\"colab-df-quickchart\" onclick=\"quickchart('df-0bc4b161-2475-42c1-9cd1-2cbde53645fc')\"\n",
              "            title=\"Suggest charts.\"\n",
              "            style=\"display:none;\">\n",
              "\n",
              "<svg xmlns=\"http://www.w3.org/2000/svg\" height=\"24px\"viewBox=\"0 0 24 24\"\n",
              "     width=\"24px\">\n",
              "    <g>\n",
              "        <path d=\"M19 3H5c-1.1 0-2 .9-2 2v14c0 1.1.9 2 2 2h14c1.1 0 2-.9 2-2V5c0-1.1-.9-2-2-2zM9 17H7v-7h2v7zm4 0h-2V7h2v10zm4 0h-2v-4h2v4z\"/>\n",
              "    </g>\n",
              "</svg>\n",
              "  </button>\n",
              "\n",
              "<style>\n",
              "  .colab-df-quickchart {\n",
              "    background-color: #E8F0FE;\n",
              "    border: none;\n",
              "    border-radius: 50%;\n",
              "    cursor: pointer;\n",
              "    display: none;\n",
              "    fill: #1967D2;\n",
              "    height: 32px;\n",
              "    padding: 0 0 0 0;\n",
              "    width: 32px;\n",
              "  }\n",
              "\n",
              "  .colab-df-quickchart:hover {\n",
              "    background-color: #E2EBFA;\n",
              "    box-shadow: 0px 1px 2px rgba(60, 64, 67, 0.3), 0px 1px 3px 1px rgba(60, 64, 67, 0.15);\n",
              "    fill: #174EA6;\n",
              "  }\n",
              "\n",
              "  [theme=dark] .colab-df-quickchart {\n",
              "    background-color: #3B4455;\n",
              "    fill: #D2E3FC;\n",
              "  }\n",
              "\n",
              "  [theme=dark] .colab-df-quickchart:hover {\n",
              "    background-color: #434B5C;\n",
              "    box-shadow: 0px 1px 3px 1px rgba(0, 0, 0, 0.15);\n",
              "    filter: drop-shadow(0px 1px 2px rgba(0, 0, 0, 0.3));\n",
              "    fill: #FFFFFF;\n",
              "  }\n",
              "</style>\n",
              "\n",
              "  <script>\n",
              "    async function quickchart(key) {\n",
              "      const charts = await google.colab.kernel.invokeFunction(\n",
              "          'suggestCharts', [key], {});\n",
              "    }\n",
              "    (() => {\n",
              "      let quickchartButtonEl =\n",
              "        document.querySelector('#df-0bc4b161-2475-42c1-9cd1-2cbde53645fc button');\n",
              "      quickchartButtonEl.style.display =\n",
              "        google.colab.kernel.accessAllowed ? 'block' : 'none';\n",
              "    })();\n",
              "  </script>\n",
              "</div>\n",
              "    </div>\n",
              "  </div>\n"
            ]
          },
          "metadata": {},
          "execution_count": 71
        }
      ]
    },
    {
      "cell_type": "code",
      "source": [
        "# now let's check prmotion department wise\n",
        "train.groupby(['department'])['is_promoted'].mean().sort_values().plot.bar();"
      ],
      "metadata": {
        "colab": {
          "base_uri": "https://localhost:8080/",
          "height": 561
        },
        "id": "XhOMF3DlAbGi",
        "outputId": "1d74b3ab-5987-4573-b0f7-f8ab7b7d9cbf"
      },
      "execution_count": 72,
      "outputs": [
        {
          "output_type": "display_data",
          "data": {
            "text/plain": [
              "<Figure size 640x480 with 1 Axes>"
            ],
            "image/png": "[encoded data removed]"
          },
          "metadata": {}
        }
      ]
    },
    {
      "cell_type": "code",
      "source": [
        "train.groupby(['awards_won?'])['is_promoted'].mean().sort_values().plot.bar()"
      ],
      "metadata": {
        "colab": {
          "base_uri": "https://localhost:8080/",
          "height": 462
        },
        "id": "dMGyZ5hyAmUy",
        "outputId": "53fcde11-af25-4758-807c-c43e5f32be76"
      },
      "execution_count": 73,
      "outputs": [
        {
          "output_type": "execute_result",
          "data": {
            "text/plain": [
              "<Axes: xlabel='awards_won?'>"
            ]
          },
          "metadata": {},
          "execution_count": 73
        },
        {
          "output_type": "display_data",
          "data": {
            "text/plain": [
              "<Figure size 640x480 with 1 Axes>"
            ],
            "image/png": "[encoded data removed]"
          },
          "metadata": {}
        }
      ]
    },
    {
      "cell_type": "code",
      "source": [
        "train.groupby(['education'])['is_promoted'].mean().sort_values().plot.bar()"
      ],
      "metadata": {
        "colab": {
          "base_uri": "https://localhost:8080/",
          "height": 574
        },
        "id": "Cv8LY8RzA54O",
        "outputId": "d462020c-0072-4906-bca5-fdd5704170a9"
      },
      "execution_count": 74,
      "outputs": [
        {
          "output_type": "execute_result",
          "data": {
            "text/plain": [
              "<Axes: xlabel='education'>"
            ]
          },
          "metadata": {},
          "execution_count": 74
        },
        {
          "output_type": "display_data",
          "data": {
            "text/plain": [
              "<Figure size 640x480 with 1 Axes>"
            ],
            "image/png": "[encoded data removed]"
          },
          "metadata": {}
        }
      ]
    },
    {
      "cell_type": "code",
      "source": [
        "train.groupby(['KPIs_met >80%'])['is_promoted'].mean().sort_values().plot.bar()"
      ],
      "metadata": {
        "colab": {
          "base_uri": "https://localhost:8080/",
          "height": 462
        },
        "id": "yQzTWmVjBASh",
        "outputId": "db1b6676-b482-4e9d-be2a-991e57c9a1de"
      },
      "execution_count": 75,
      "outputs": [
        {
          "output_type": "execute_result",
          "data": {
            "text/plain": [
              "<Axes: xlabel='KPIs_met >80%'>"
            ]
          },
          "metadata": {},
          "execution_count": 75
        },
        {
          "output_type": "display_data",
          "data": {
            "text/plain": [
              "<Figure size 640x480 with 1 Axes>"
            ],
            "image/png": "[encoded data removed]"
          },
          "metadata": {}
        }
      ]
    },
    {
      "cell_type": "code",
      "source": [
        "train.groupby(['recruitment_channel'])['is_promoted'].mean().sort_values().plot.bar()"
      ],
      "metadata": {
        "colab": {
          "base_uri": "https://localhost:8080/",
          "height": 513
        },
        "id": "bI5Ex1fyBMhK",
        "outputId": "0a3fab23-f531-4d2d-9489-ed10330a76cd"
      },
      "execution_count": 76,
      "outputs": [
        {
          "output_type": "execute_result",
          "data": {
            "text/plain": [
              "<Axes: xlabel='recruitment_channel'>"
            ]
          },
          "metadata": {},
          "execution_count": 76
        },
        {
          "output_type": "display_data",
          "data": {
            "text/plain": [
              "<Figure size 640x480 with 1 Axes>"
            ],
            "image/png": "[encoded data removed]"
          },
          "metadata": {}
        }
      ]
    },
    {
      "cell_type": "code",
      "source": [
        "train['is_promoted'].value_counts().plot.pie();\n"
      ],
      "metadata": {
        "colab": {
          "base_uri": "https://localhost:8080/",
          "height": 406
        },
        "id": "hy52xqh-ZQhp",
        "outputId": "34cfa590-8bd5-48ed-c4f4-cb0acefd0051"
      },
      "execution_count": 77,
      "outputs": [
        {
          "output_type": "display_data",
          "data": {
            "text/plain": [
              "<Figure size 640x480 with 1 Axes>"
            ],
            "image/png": "[encoded data removed]"
          },
          "metadata": {}
        }
      ]
    },
    {
      "cell_type": "code",
      "source": [
        "plt.hist(train['age'], bins=5);"
      ],
      "metadata": {
        "colab": {
          "base_uri": "https://localhost:8080/",
          "height": 430
        },
        "id": "PSqgsDLRcVcm",
        "outputId": "e434dd1a-2bef-4e7c-a6fd-cbece1e46a33"
      },
      "execution_count": 78,
      "outputs": [
        {
          "output_type": "display_data",
          "data": {
            "text/plain": [
              "<Figure size 640x480 with 1 Axes>"
            ],
            "image/png": "[encoded data removed]"
          },
          "metadata": {}
        }
      ]
    },
    {
      "cell_type": "code",
      "source": [
        "#plt.subplot(1, 3, 2)\n",
        "fig = plt.hist(train['length_of_service'], bins=5)\n"
      ],
      "metadata": {
        "colab": {
          "base_uri": "https://localhost:8080/",
          "height": 430
        },
        "id": "2KwQk-5ec7pJ",
        "outputId": "fbb5eef8-0d8f-4e94-d2ae-74ff1711f477"
      },
      "execution_count": 79,
      "outputs": [
        {
          "output_type": "display_data",
          "data": {
            "text/plain": [
              "<Figure size 640x480 with 1 Axes>"
            ],
            "image/png": "[encoded data removed]"
          },
          "metadata": {}
        }
      ]
    },
    {
      "cell_type": "code",
      "source": [
        "# let's make boxplots to visualise outliers in the continuous variables\n",
        "# Age, length_of_service and avg_training_score\n",
        "\n",
        "plt.figure(figsize=(15, 6))\n",
        "plt.subplot(1, 3, 1)\n",
        "fig = train.boxplot(column='age')\n",
        "fig.set_title('')\n",
        "fig.set_ylabel('Age')\n",
        "\n",
        "plt.subplot(1, 3, 2)\n",
        "fig = train.boxplot(column='length_of_service')\n",
        "fig.set_title('')\n",
        "fig.set_ylabel('length_of_service')\n",
        "\n",
        "plt.subplot(1, 3, 3)\n",
        "fig = train.boxplot(column='avg_training_score')\n",
        "fig.set_title('')\n",
        "fig.set_ylabel('avg_training_score');\n",
        "\n"
      ],
      "metadata": {
        "colab": {
          "base_uri": "https://localhost:8080/",
          "height": 428
        },
        "id": "YRFEaBshdjcT",
        "outputId": "02ab876a-dec5-4e41-d082-f1797b98cf7e"
      },
      "execution_count": 80,
      "outputs": [
        {
          "output_type": "display_data",
          "data": {
            "text/plain": [
              "<Figure size 1500x600 with 3 Axes>"
            ],
            "image/png": "[encoded data removed]"
          },
          "metadata": {}
        }
      ]
    },
    {
      "cell_type": "code",
      "source": [
        "# find outliers\n",
        "\n",
        "# Age\n",
        "upper_boundary = train.age.mean() + 3* train.age.std()\n",
        "lower_boundary = train.age.mean() - 3* train.age.std()\n",
        "print('Age outliers are values < {lowerboundary} or > {upperboundary}'.format(lowerboundary = lower_boundary, upperboundary = upper_boundary))\n",
        "\n",
        "# Lenght of service\n",
        "IQR = train.length_of_service.quantile(0.75) - train.length_of_service.quantile(0.25)\n",
        "lower_fence = train.length_of_service.quantile(0.25) - (IQR * 3)\n",
        "upper_fence = train.length_of_service.quantile(0.75) + (IQR * 3)\n",
        "print('Lenght of Service are values < {lowerboundary} or >{upperboundary}'.format(lowerboundary = lower_fence, upperboundary = upper_fence))"
      ],
      "metadata": {
        "colab": {
          "base_uri": "https://localhost:8080/"
        },
        "id": "GoentHo1gege",
        "outputId": "41df0258-0864-4b7d-b5e8-662ab1ce39c0"
      },
      "execution_count": 81,
      "outputs": [
        {
          "output_type": "stream",
          "name": "stdout",
          "text": [
            "Age outliers are values < 11.823407882033777 or > 57.78442309154673\n",
            "Lenght of Service are values < -9.0 or >19.0\n"
          ]
        }
      ]
    },
    {
      "cell_type": "code",
      "source": [
        "# outlies in discrete variables\n",
        "for var in ['no_of_trainings', 'previous_year_rating', 'KPIs_met >80%','awards_won?']:\n",
        "    print(train[var].value_counts() / np.float(len(train)))"
      ],
      "metadata": {
        "colab": {
          "base_uri": "https://localhost:8080/"
        },
        "id": "Ry__iSWygzfz",
        "outputId": "0906813e-0880-4578-ee40-9dfb8b01adef"
      },
      "execution_count": 82,
      "outputs": [
        {
          "output_type": "stream",
          "name": "stdout",
          "text": [
            "1     0.809699\n",
            "2     0.145727\n",
            "3     0.032404\n",
            "4     0.008539\n",
            "5     0.002335\n",
            "6     0.000803\n",
            "7     0.000219\n",
            "8     0.000091\n",
            "10    0.000091\n",
            "9     0.000091\n",
            "Name: no_of_trainings, dtype: float64\n",
            "3.0    0.339695\n",
            "5.0    0.214221\n",
            "4.0    0.180211\n",
            "1.0    0.113542\n",
            "2.0    0.077087\n",
            "Name: previous_year_rating, dtype: float64\n",
            "0    0.648026\n",
            "1    0.351974\n",
            "Name: KPIs_met >80%, dtype: float64\n",
            "0    0.976828\n",
            "1    0.023172\n",
            "Name: awards_won?, dtype: float64\n"
          ]
        },
        {
          "output_type": "stream",
          "name": "stderr",
          "text": [
            "<ipython-input-82-6d5e1254e041>:3: DeprecationWarning: `np.float` is a deprecated alias for the builtin `float`. To silence this warning, use `float` by itself. Doing this will not modify any behavior and is safe. If you specifically wanted the numpy scalar type, use `np.float64` here.\n",
            "Deprecated in NumPy 1.20; for more details and guidance: https://numpy.org/devdocs/release/1.20.0-notes.html#deprecations\n",
            "  print(train[var].value_counts() / np.float(len(train)))\n",
            "<ipython-input-82-6d5e1254e041>:3: DeprecationWarning: `np.float` is a deprecated alias for the builtin `float`. To silence this warning, use `float` by itself. Doing this will not modify any behavior and is safe. If you specifically wanted the numpy scalar type, use `np.float64` here.\n",
            "Deprecated in NumPy 1.20; for more details and guidance: https://numpy.org/devdocs/release/1.20.0-notes.html#deprecations\n",
            "  print(train[var].value_counts() / np.float(len(train)))\n",
            "<ipython-input-82-6d5e1254e041>:3: DeprecationWarning: `np.float` is a deprecated alias for the builtin `float`. To silence this warning, use `float` by itself. Doing this will not modify any behavior and is safe. If you specifically wanted the numpy scalar type, use `np.float64` here.\n",
            "Deprecated in NumPy 1.20; for more details and guidance: https://numpy.org/devdocs/release/1.20.0-notes.html#deprecations\n",
            "  print(train[var].value_counts() / np.float(len(train)))\n",
            "<ipython-input-82-6d5e1254e041>:3: DeprecationWarning: `np.float` is a deprecated alias for the builtin `float`. To silence this warning, use `float` by itself. Doing this will not modify any behavior and is safe. If you specifically wanted the numpy scalar type, use `np.float64` here.\n",
            "Deprecated in NumPy 1.20; for more details and guidance: https://numpy.org/devdocs/release/1.20.0-notes.html#deprecations\n",
            "  print(train[var].value_counts() / np.float(len(train)))\n"
          ]
        }
      ]
    },
    {
      "cell_type": "code",
      "source": [
        "train.info()"
      ],
      "metadata": {
        "colab": {
          "base_uri": "https://localhost:8080/"
        },
        "id": "NSyQnDXdBT_L",
        "outputId": "cb178624-c5c1-4d59-b951-9710ea0280f1"
      },
      "execution_count": 83,
      "outputs": [
        {
          "output_type": "stream",
          "name": "stdout",
          "text": [
            "<class 'pandas.core.frame.DataFrame'>\n",
            "RangeIndex: 54808 entries, 0 to 54807\n",
            "Data columns (total 14 columns):\n",
            " #   Column                Non-Null Count  Dtype  \n",
            "---  ------                --------------  -----  \n",
            " 0   employee_id           54808 non-null  int64  \n",
            " 1   department            54808 non-null  object \n",
            " 2   region                54808 non-null  object \n",
            " 3   education             52399 non-null  object \n",
            " 4   gender                54808 non-null  object \n",
            " 5   recruitment_channel   54808 non-null  object \n",
            " 6   no_of_trainings       54808 non-null  int64  \n",
            " 7   age                   54808 non-null  int64  \n",
            " 8   previous_year_rating  50684 non-null  float64\n",
            " 9   length_of_service     54808 non-null  int64  \n",
            " 10  KPIs_met >80%         54808 non-null  int64  \n",
            " 11  awards_won?           54808 non-null  int64  \n",
            " 12  avg_training_score    54808 non-null  int64  \n",
            " 13  is_promoted           54808 non-null  int64  \n",
            "dtypes: float64(1), int64(8), object(5)\n",
            "memory usage: 5.9+ MB\n"
          ]
        }
      ]
    },
    {
      "cell_type": "markdown",
      "source": [
        "There are a mixture of categorical and numerical variables. Numerical are those of type int and float. Categorical those of type object."
      ],
      "metadata": {
        "id": "u-wlM7ftBiLt"
      }
    },
    {
      "cell_type": "code",
      "source": [
        "print('Number of employees labels:', len(train.employee_id.unique()))\n",
        "print('Number of employees in promoted data:', len(train))"
      ],
      "metadata": {
        "colab": {
          "base_uri": "https://localhost:8080/"
        },
        "id": "7P6tQXKmBaad",
        "outputId": "fe9d45f1-693c-4bcb-a4ca-1afcaabcf317"
      },
      "execution_count": 84,
      "outputs": [
        {
          "output_type": "stream",
          "name": "stdout",
          "text": [
            "Number of employees labels: 54808\n",
            "Number of employees in promoted data: 54808\n"
          ]
        }
      ]
    },
    {
      "cell_type": "code",
      "source": [
        "# find the numarical variables\n",
        "numerical = [var for var in train.columns if train[var].dtype!='O']\n",
        "print('There are {} numerical variables'.format(len(numerical)))"
      ],
      "metadata": {
        "colab": {
          "base_uri": "https://localhost:8080/"
        },
        "id": "QWLuKGO3B-ru",
        "outputId": "cf366e7c-2338-4ad1-8434-2d5078449f7a"
      },
      "execution_count": 85,
      "outputs": [
        {
          "output_type": "stream",
          "name": "stdout",
          "text": [
            "There are 9 numerical variables\n"
          ]
        }
      ]
    },
    {
      "cell_type": "code",
      "source": [
        "# find the categorical variables\n",
        "categorical = [var for var in train.columns if train[var].dtype=='O']\n",
        "print('Train dataset have {} categorical variables'.format(len(categorical)))\n",
        "\n",
        "# categorical_test = [var for var in X_test.columns if X_test[var].dtype=='O']\n",
        "# print('Test dataset have {} categorical variables'.format(len(categorical_test)))\n"
      ],
      "metadata": {
        "colab": {
          "base_uri": "https://localhost:8080/"
        },
        "id": "8HEoimtkB0HJ",
        "outputId": "de0669f6-901f-4665-b2f0-dfceef6c60ba"
      },
      "execution_count": 86,
      "outputs": [
        {
          "output_type": "stream",
          "name": "stdout",
          "text": [
            "Train dataset have 5 categorical variables\n"
          ]
        }
      ]
    },
    {
      "cell_type": "code",
      "source": [
        "cat = pd.get_dummies(train[categorical], drop_first=True)\n",
        "#cat_test = pd.get_dummies(X_test[categorical_test],drop_first=True)\n",
        "\n",
        "train = pd.concat([train,cat],axis=1)\n",
        "#X_test = pd.concat([X_test,cat_test],axis=1)\n"
      ],
      "metadata": {
        "id": "U4VkBa1QOd8K"
      },
      "execution_count": 87,
      "outputs": []
    },
    {
      "cell_type": "code",
      "source": [
        "train.shape"
      ],
      "metadata": {
        "colab": {
          "base_uri": "https://localhost:8080/"
        },
        "id": "d-QCPEV4ToRz",
        "outputId": "022532c0-443b-45b2-fdb3-2d0b3327f584"
      },
      "execution_count": 88,
      "outputs": [
        {
          "output_type": "execute_result",
          "data": {
            "text/plain": [
              "(54808, 60)"
            ]
          },
          "metadata": {},
          "execution_count": 88
        }
      ]
    },
    {
      "cell_type": "code",
      "source": [
        "train = train.drop(categorical, axis=1)\n",
        "#X_test = X_test.drop(cat_test, axis=1)\n"
      ],
      "metadata": {
        "id": "vsyEujcGPkVY"
      },
      "execution_count": 89,
      "outputs": []
    },
    {
      "cell_type": "code",
      "source": [
        "train.is_promoted.value_counts()"
      ],
      "metadata": {
        "colab": {
          "base_uri": "https://localhost:8080/"
        },
        "id": "_cnSJqprPLKX",
        "outputId": "54015675-b6d8-482e-8409-4feb5aa6c4dc"
      },
      "execution_count": 90,
      "outputs": [
        {
          "output_type": "execute_result",
          "data": {
            "text/plain": [
              "0    50140\n",
              "1     4668\n",
              "Name: is_promoted, dtype: int64"
            ]
          },
          "metadata": {},
          "execution_count": 90
        }
      ]
    },
    {
      "cell_type": "code",
      "source": [
        "#make the it X and y\n",
        "X = train.drop(['is_promoted'], axis=1)\n",
        "y = train['is_promoted']\n",
        "\n",
        "# Splitting the dataset into the Training set and Test set\n",
        "from sklearn.model_selection import train_test_split\n",
        "X_train, X_test, y_train, y_test = train_test_split(X, y, test_size = 0.2, random_state = 123)\n",
        "X_train.shape, X_train.shape, X_test.shape, y_test.shape"
      ],
      "metadata": {
        "colab": {
          "base_uri": "https://localhost:8080/"
        },
        "id": "0yo1qtE0RGYm",
        "outputId": "b90d7ea2-86af-49fb-874e-603483962dda"
      },
      "execution_count": 91,
      "outputs": [
        {
          "output_type": "execute_result",
          "data": {
            "text/plain": [
              "((43846, 54), (43846, 54), (10962, 54), (10962,))"
            ]
          },
          "metadata": {},
          "execution_count": 91
        }
      ]
    },
    {
      "cell_type": "code",
      "source": [
        "X_test.head()"
      ],
      "metadata": {
        "colab": {
          "base_uri": "https://localhost:8080/",
          "height": 272
        },
        "id": "WXObzrKOQS94",
        "outputId": "c9feffb3-9d5c-4eef-977d-b85c868b22f0"
      },
      "execution_count": 92,
      "outputs": [
        {
          "output_type": "execute_result",
          "data": {
            "text/plain": [
              "       employee_id  no_of_trainings  age  previous_year_rating  \\\n",
              "47235        30698                1   24                   4.0   \n",
              "86           20798                1   28                   2.0   \n",
              "13878        24587                1   32                   4.0   \n",
              "12473        22150                2   25                   1.0   \n",
              "53518        47553                1   26                   2.0   \n",
              "\n",
              "       length_of_service  KPIs_met >80%  awards_won?  avg_training_score  \\\n",
              "47235                  2              1            0                  54   \n",
              "86                     6              0            0                  52   \n",
              "13878                  8              0            0                  60   \n",
              "12473                  2              0            0                  47   \n",
              "53518                  2              0            0                  58   \n",
              "\n",
              "       department_Finance  department_HR  ...  region_region_5  \\\n",
              "47235                   0              0  ...                0   \n",
              "86                      0              1  ...                0   \n",
              "13878                   0              0  ...                0   \n",
              "12473                   0              0  ...                0   \n",
              "53518                   0              0  ...                0   \n",
              "\n",
              "       region_region_6  region_region_7  region_region_8  region_region_9  \\\n",
              "47235                0                0                0                0   \n",
              "86                   0                0                0                0   \n",
              "13878                0                0                0                0   \n",
              "12473                0                0                0                1   \n",
              "53518                0                0                0                0   \n",
              "\n",
              "       education_Below Secondary  education_Master's & above  gender_m  \\\n",
              "47235                          0                           0         1   \n",
              "86                             0                           0         0   \n",
              "13878                          0                           1         0   \n",
              "12473                          0                           0         1   \n",
              "53518                          0                           0         1   \n",
              "\n",
              "       recruitment_channel_referred  recruitment_channel_sourcing  \n",
              "47235                             0                             0  \n",
              "86                                0                             1  \n",
              "13878                             0                             1  \n",
              "12473                             0                             0  \n",
              "53518                             0                             1  \n",
              "\n",
              "[5 rows x 54 columns]"
            ],
            "text/html": [
              "\n",
              "  <div id=\"df-e2be66c9-3f6f-49ab-b760-18245ef2d18e\" class=\"colab-df-container\">\n",
              "    <div>\n",
              "<style scoped>\n",
              "    .dataframe tbody tr th:only-of-type {\n",
              "        vertical-align: middle;\n",
              "    }\n",
              "\n",
              "    .dataframe tbody tr th {\n",
              "        vertical-align: top;\n",
              "    }\n",
              "\n",
              "    .dataframe thead th {\n",
              "        text-align: right;\n",
              "    }\n",
              "</style>\n",
              "<table border=\"1\" class=\"dataframe\">\n",
              "  <thead>\n",
              "    <tr style=\"text-align: right;\">\n",
              "      <th></th>\n",
              "      <th>employee_id</th>\n",
              "      <th>no_of_trainings</th>\n",
              "      <th>age</th>\n",
              "      <th>previous_year_rating</th>\n",
              "      <th>length_of_service</th>\n",
              "      <th>KPIs_met &gt;80%</th>\n",
              "      <th>awards_won?</th>\n",
              "      <th>avg_training_score</th>\n",
              "      <th>department_Finance</th>\n",
              "      <th>department_HR</th>\n",
              "      <th>...</th>\n",
              "      <th>region_region_5</th>\n",
              "      <th>region_region_6</th>\n",
              "      <th>region_region_7</th>\n",
              "      <th>region_region_8</th>\n",
              "      <th>region_region_9</th>\n",
              "      <th>education_Below Secondary</th>\n",
              "      <th>education_Master's &amp; above</th>\n",
              "      <th>gender_m</th>\n",
              "      <th>recruitment_channel_referred</th>\n",
              "      <th>recruitment_channel_sourcing</th>\n",
              "    </tr>\n",
              "  </thead>\n",
              "  <tbody>\n",
              "    <tr>\n",
              "      <th>47235</th>\n",
              "      <td>30698</td>\n",
              "      <td>1</td>\n",
              "      <td>24</td>\n",
              "      <td>4.0</td>\n",
              "      <td>2</td>\n",
              "      <td>1</td>\n",
              "      <td>0</td>\n",
              "      <td>54</td>\n",
              "      <td>0</td>\n",
              "      <td>0</td>\n",
              "      <td>...</td>\n",
              "      <td>0</td>\n",
              "      <td>0</td>\n",
              "      <td>0</td>\n",
              "      <td>0</td>\n",
              "      <td>0</td>\n",
              "      <td>0</td>\n",
              "      <td>0</td>\n",
              "      <td>1</td>\n",
              "      <td>0</td>\n",
              "      <td>0</td>\n",
              "    </tr>\n",
              "    <tr>\n",
              "      <th>86</th>\n",
              "      <td>20798</td>\n",
              "      <td>1</td>\n",
              "      <td>28</td>\n",
              "      <td>2.0</td>\n",
              "      <td>6</td>\n",
              "      <td>0</td>\n",
              "      <td>0</td>\n",
              "      <td>52</td>\n",
              "      <td>0</td>\n",
              "      <td>1</td>\n",
              "      <td>...</td>\n",
              "      <td>0</td>\n",
              "      <td>0</td>\n",
              "      <td>0</td>\n",
              "      <td>0</td>\n",
              "      <td>0</td>\n",
              "      <td>0</td>\n",
              "      <td>0</td>\n",
              "      <td>0</td>\n",
              "      <td>0</td>\n",
              "      <td>1</td>\n",
              "    </tr>\n",
              "    <tr>\n",
              "      <th>13878</th>\n",
              "      <td>24587</td>\n",
              "      <td>1</td>\n",
              "      <td>32</td>\n",
              "      <td>4.0</td>\n",
              "      <td>8</td>\n",
              "      <td>0</td>\n",
              "      <td>0</td>\n",
              "      <td>60</td>\n",
              "      <td>0</td>\n",
              "      <td>0</td>\n",
              "      <td>...</td>\n",
              "      <td>0</td>\n",
              "      <td>0</td>\n",
              "      <td>0</td>\n",
              "      <td>0</td>\n",
              "      <td>0</td>\n",
              "      <td>0</td>\n",
              "      <td>1</td>\n",
              "      <td>0</td>\n",
              "      <td>0</td>\n",
              "      <td>1</td>\n",
              "    </tr>\n",
              "    <tr>\n",
              "      <th>12473</th>\n",
              "      <td>22150</td>\n",
              "      <td>2</td>\n",
              "      <td>25</td>\n",
              "      <td>1.0</td>\n",
              "      <td>2</td>\n",
              "      <td>0</td>\n",
              "      <td>0</td>\n",
              "      <td>47</td>\n",
              "      <td>0</td>\n",
              "      <td>0</td>\n",
              "      <td>...</td>\n",
              "      <td>0</td>\n",
              "      <td>0</td>\n",
              "      <td>0</td>\n",
              "      <td>0</td>\n",
              "      <td>1</td>\n",
              "      <td>0</td>\n",
              "      <td>0</td>\n",
              "      <td>1</td>\n",
              "      <td>0</td>\n",
              "      <td>0</td>\n",
              "    </tr>\n",
              "    <tr>\n",
              "      <th>53518</th>\n",
              "      <td>47553</td>\n",
              "      <td>1</td>\n",
              "      <td>26</td>\n",
              "      <td>2.0</td>\n",
              "      <td>2</td>\n",
              "      <td>0</td>\n",
              "      <td>0</td>\n",
              "      <td>58</td>\n",
              "      <td>0</td>\n",
              "      <td>0</td>\n",
              "      <td>...</td>\n",
              "      <td>0</td>\n",
              "      <td>0</td>\n",
              "      <td>0</td>\n",
              "      <td>0</td>\n",
              "      <td>0</td>\n",
              "      <td>0</td>\n",
              "      <td>0</td>\n",
              "      <td>1</td>\n",
              "      <td>0</td>\n",
              "      <td>1</td>\n",
              "    </tr>\n",
              "  </tbody>\n",
              "</table>\n",
              "<p>5 rows × 54 columns</p>\n",
              "</div>\n",
              "    <div class=\"colab-df-buttons\">\n",
              "\n",
              "  <div class=\"colab-df-container\">\n",
              "    <button class=\"colab-df-convert\" onclick=\"convertToInteractive('df-e2be66c9-3f6f-49ab-b760-18245ef2d18e')\"\n",
              "            title=\"Convert this dataframe to an interactive table.\"\n",
              "            style=\"display:none;\">\n",
              "\n",
              "  <svg xmlns=\"http://www.w3.org/2000/svg\" height=\"24px\" viewBox=\"0 -960 960 960\">\n",
              "    <path d=\"M120-120v-720h720v720H120Zm60-500h600v-160H180v160Zm220 220h160v-160H400v160Zm0 220h160v-160H400v160ZM180-400h160v-160H180v160Zm440 0h160v-160H620v160ZM180-180h160v-160H180v160Zm440 0h160v-160H620v160Z\"/>\n",
              "  </svg>\n",
              "    </button>\n",
              "\n",
              "  <style>\n",
              "    .colab-df-container {\n",
              "      display:flex;\n",
              "      gap: 12px;\n",
              "    }\n",
              "\n",
              "    .colab-df-convert {\n",
              "      background-color: #E8F0FE;\n",
              "      border: none;\n",
              "      border-radius: 50%;\n",
              "      cursor: pointer;\n",
              "      display: none;\n",
              "      fill: #1967D2;\n",
              "      height: 32px;\n",
              "      padding: 0 0 0 0;\n",
              "      width: 32px;\n",
              "    }\n",
              "\n",
              "    .colab-df-convert:hover {\n",
              "      background-color: #E2EBFA;\n",
              "      box-shadow: 0px 1px 2px rgba(60, 64, 67, 0.3), 0px 1px 3px 1px rgba(60, 64, 67, 0.15);\n",
              "      fill: #174EA6;\n",
              "    }\n",
              "\n",
              "    .colab-df-buttons div {\n",
              "      margin-bottom: 4px;\n",
              "    }\n",
              "\n",
              "    [theme=dark] .colab-df-convert {\n",
              "      background-color: #3B4455;\n",
              "      fill: #D2E3FC;\n",
              "    }\n",
              "\n",
              "    [theme=dark] .colab-df-convert:hover {\n",
              "      background-color: #434B5C;\n",
              "      box-shadow: 0px 1px 3px 1px rgba(0, 0, 0, 0.15);\n",
              "      filter: drop-shadow(0px 1px 2px rgba(0, 0, 0, 0.3));\n",
              "      fill: #FFFFFF;\n",
              "    }\n",
              "  </style>\n",
              "\n",
              "    <script>\n",
              "      const buttonEl =\n",
              "        document.querySelector('#df-e2be66c9-3f6f-49ab-b760-18245ef2d18e button.colab-df-convert');\n",
              "      buttonEl.style.display =\n",
              "        google.colab.kernel.accessAllowed ? 'block' : 'none';\n",
              "\n",
              "      async function convertToInteractive(key) {\n",
              "        const element = document.querySelector('#df-e2be66c9-3f6f-49ab-b760-18245ef2d18e');\n",
              "        const dataTable =\n",
              "          await google.colab.kernel.invokeFunction('convertToInteractive',\n",
              "                                                    [key], {});\n",
              "        if (!dataTable) return;\n",
              "\n",
              "        const docLinkHtml = 'Like what you see? Visit the ' +\n",
              "          '<a target=\"_blank\" href=https://colab.research.google.com/notebooks/data_table.ipynb>data table notebook</a>'\n",
              "          + ' to learn more about interactive tables.';\n",
              "        element.innerHTML = '';\n",
              "        dataTable['output_type'] = 'display_data';\n",
              "        await google.colab.output.renderOutput(dataTable, element);\n",
              "        const docLink = document.createElement('div');\n",
              "        docLink.innerHTML = docLinkHtml;\n",
              "        element.appendChild(docLink);\n",
              "      }\n",
              "    </script>\n",
              "  </div>\n",
              "\n",
              "\n",
              "<div id=\"df-a3d35480-f9a6-4c74-a4f4-9da2e0f84315\">\n",
              "  <button class=\"colab-df-quickchart\" onclick=\"quickchart('df-a3d35480-f9a6-4c74-a4f4-9da2e0f84315')\"\n",
              "            title=\"Suggest charts.\"\n",
              "            style=\"display:none;\">\n",
              "\n",
              "<svg xmlns=\"http://www.w3.org/2000/svg\" height=\"24px\"viewBox=\"0 0 24 24\"\n",
              "     width=\"24px\">\n",
              "    <g>\n",
              "        <path d=\"M19 3H5c-1.1 0-2 .9-2 2v14c0 1.1.9 2 2 2h14c1.1 0 2-.9 2-2V5c0-1.1-.9-2-2-2zM9 17H7v-7h2v7zm4 0h-2V7h2v10zm4 0h-2v-4h2v4z\"/>\n",
              "    </g>\n",
              "</svg>\n",
              "  </button>\n",
              "\n",
              "<style>\n",
              "  .colab-df-quickchart {\n",
              "    background-color: #E8F0FE;\n",
              "    border: none;\n",
              "    border-radius: 50%;\n",
              "    cursor: pointer;\n",
              "    display: none;\n",
              "    fill: #1967D2;\n",
              "    height: 32px;\n",
              "    padding: 0 0 0 0;\n",
              "    width: 32px;\n",
              "  }\n",
              "\n",
              "  .colab-df-quickchart:hover {\n",
              "    background-color: #E2EBFA;\n",
              "    box-shadow: 0px 1px 2px rgba(60, 64, 67, 0.3), 0px 1px 3px 1px rgba(60, 64, 67, 0.15);\n",
              "    fill: #174EA6;\n",
              "  }\n",
              "\n",
              "  [theme=dark] .colab-df-quickchart {\n",
              "    background-color: #3B4455;\n",
              "    fill: #D2E3FC;\n",
              "  }\n",
              "\n",
              "  [theme=dark] .colab-df-quickchart:hover {\n",
              "    background-color: #434B5C;\n",
              "    box-shadow: 0px 1px 3px 1px rgba(0, 0, 0, 0.15);\n",
              "    filter: drop-shadow(0px 1px 2px rgba(0, 0, 0, 0.3));\n",
              "    fill: #FFFFFF;\n",
              "  }\n",
              "</style>\n",
              "\n",
              "  <script>\n",
              "    async function quickchart(key) {\n",
              "      const charts = await google.colab.kernel.invokeFunction(\n",
              "          'suggestCharts', [key], {});\n",
              "    }\n",
              "    (() => {\n",
              "      let quickchartButtonEl =\n",
              "        document.querySelector('#df-a3d35480-f9a6-4c74-a4f4-9da2e0f84315 button');\n",
              "      quickchartButtonEl.style.display =\n",
              "        google.colab.kernel.accessAllowed ? 'block' : 'none';\n",
              "    })();\n",
              "  </script>\n",
              "</div>\n",
              "    </div>\n",
              "  </div>\n"
            ]
          },
          "metadata": {},
          "execution_count": 92
        }
      ]
    },
    {
      "cell_type": "code",
      "source": [
        "# let's visualise the percentage of missing values\n",
        "X_train.isnull().mean()"
      ],
      "metadata": {
        "colab": {
          "base_uri": "https://localhost:8080/"
        },
        "id": "vQ9USL3ICER0",
        "outputId": "7800d02c-c639-47a3-9212-b088fba23d2a"
      },
      "execution_count": 93,
      "outputs": [
        {
          "output_type": "execute_result",
          "data": {
            "text/plain": [
              "employee_id                     0.000000\n",
              "no_of_trainings                 0.000000\n",
              "age                             0.000000\n",
              "previous_year_rating            0.074146\n",
              "length_of_service               0.000000\n",
              "KPIs_met >80%                   0.000000\n",
              "awards_won?                     0.000000\n",
              "avg_training_score              0.000000\n",
              "department_Finance              0.000000\n",
              "department_HR                   0.000000\n",
              "department_Legal                0.000000\n",
              "department_Operations           0.000000\n",
              "department_Procurement          0.000000\n",
              "department_R&D                  0.000000\n",
              "department_Sales & Marketing    0.000000\n",
              "department_Technology           0.000000\n",
              "region_region_10                0.000000\n",
              "region_region_11                0.000000\n",
              "region_region_12                0.000000\n",
              "region_region_13                0.000000\n",
              "region_region_14                0.000000\n",
              "region_region_15                0.000000\n",
              "region_region_16                0.000000\n",
              "region_region_17                0.000000\n",
              "region_region_18                0.000000\n",
              "region_region_19                0.000000\n",
              "region_region_2                 0.000000\n",
              "region_region_20                0.000000\n",
              "region_region_21                0.000000\n",
              "region_region_22                0.000000\n",
              "region_region_23                0.000000\n",
              "region_region_24                0.000000\n",
              "region_region_25                0.000000\n",
              "region_region_26                0.000000\n",
              "region_region_27                0.000000\n",
              "region_region_28                0.000000\n",
              "region_region_29                0.000000\n",
              "region_region_3                 0.000000\n",
              "region_region_30                0.000000\n",
              "region_region_31                0.000000\n",
              "region_region_32                0.000000\n",
              "region_region_33                0.000000\n",
              "region_region_34                0.000000\n",
              "region_region_4                 0.000000\n",
              "region_region_5                 0.000000\n",
              "region_region_6                 0.000000\n",
              "region_region_7                 0.000000\n",
              "region_region_8                 0.000000\n",
              "region_region_9                 0.000000\n",
              "education_Below Secondary       0.000000\n",
              "education_Master's & above      0.000000\n",
              "gender_m                        0.000000\n",
              "recruitment_channel_referred    0.000000\n",
              "recruitment_channel_sourcing    0.000000\n",
              "dtype: float64"
            ]
          },
          "metadata": {},
          "execution_count": 93
        }
      ]
    },
    {
      "cell_type": "code",
      "source": [
        "# print variables with missing data\n",
        "X_train.isnull().mean()"
      ],
      "metadata": {
        "colab": {
          "base_uri": "https://localhost:8080/"
        },
        "id": "5sZ2KDMCCOgV",
        "outputId": "9f6a1e2f-1974-4451-c86e-282b7a94f200"
      },
      "execution_count": 94,
      "outputs": [
        {
          "output_type": "execute_result",
          "data": {
            "text/plain": [
              "employee_id                     0.000000\n",
              "no_of_trainings                 0.000000\n",
              "age                             0.000000\n",
              "previous_year_rating            0.074146\n",
              "length_of_service               0.000000\n",
              "KPIs_met >80%                   0.000000\n",
              "awards_won?                     0.000000\n",
              "avg_training_score              0.000000\n",
              "department_Finance              0.000000\n",
              "department_HR                   0.000000\n",
              "department_Legal                0.000000\n",
              "department_Operations           0.000000\n",
              "department_Procurement          0.000000\n",
              "department_R&D                  0.000000\n",
              "department_Sales & Marketing    0.000000\n",
              "department_Technology           0.000000\n",
              "region_region_10                0.000000\n",
              "region_region_11                0.000000\n",
              "region_region_12                0.000000\n",
              "region_region_13                0.000000\n",
              "region_region_14                0.000000\n",
              "region_region_15                0.000000\n",
              "region_region_16                0.000000\n",
              "region_region_17                0.000000\n",
              "region_region_18                0.000000\n",
              "region_region_19                0.000000\n",
              "region_region_2                 0.000000\n",
              "region_region_20                0.000000\n",
              "region_region_21                0.000000\n",
              "region_region_22                0.000000\n",
              "region_region_23                0.000000\n",
              "region_region_24                0.000000\n",
              "region_region_25                0.000000\n",
              "region_region_26                0.000000\n",
              "region_region_27                0.000000\n",
              "region_region_28                0.000000\n",
              "region_region_29                0.000000\n",
              "region_region_3                 0.000000\n",
              "region_region_30                0.000000\n",
              "region_region_31                0.000000\n",
              "region_region_32                0.000000\n",
              "region_region_33                0.000000\n",
              "region_region_34                0.000000\n",
              "region_region_4                 0.000000\n",
              "region_region_5                 0.000000\n",
              "region_region_6                 0.000000\n",
              "region_region_7                 0.000000\n",
              "region_region_8                 0.000000\n",
              "region_region_9                 0.000000\n",
              "education_Below Secondary       0.000000\n",
              "education_Master's & above      0.000000\n",
              "gender_m                        0.000000\n",
              "recruitment_channel_referred    0.000000\n",
              "recruitment_channel_sourcing    0.000000\n",
              "dtype: float64"
            ]
          },
          "metadata": {},
          "execution_count": 94
        }
      ]
    },
    {
      "cell_type": "code",
      "source": [
        "# #  replace by most frequent label in Education\n",
        "\n",
        "# for df in [train, test]:\n",
        "#     df['education'].fillna(train['education'].mode()[0], inplace=True)\n"
      ],
      "metadata": {
        "id": "T94bTLUlCs80"
      },
      "execution_count": 95,
      "outputs": []
    },
    {
      "cell_type": "code",
      "source": [
        "# # check absence of null values\n",
        "# train.isnull().mean(), # check absence of null values\n"
      ],
      "metadata": {
        "id": "96mFys54C1q-"
      },
      "execution_count": 96,
      "outputs": []
    },
    {
      "cell_type": "code",
      "source": [
        "# test.isnull().mean()"
      ],
      "metadata": {
        "id": "t3Bpa2BqDCop"
      },
      "execution_count": 97,
      "outputs": []
    },
    {
      "cell_type": "code",
      "source": [
        "#previous_year_rating\n",
        "\n",
        "extrem = X_train.previous_year_rating.mean() + X_train.previous_year_rating.std()*3\n",
        "for df in [X_train, X_test]:\n",
        "    df.previous_year_rating.fillna(extrem, inplace=True)\n",
        "\n"
      ],
      "metadata": {
        "id": "yBwGCW8HDQN1"
      },
      "execution_count": 98,
      "outputs": []
    },
    {
      "cell_type": "code",
      "source": [
        "X_train.isnull().mean()"
      ],
      "metadata": {
        "colab": {
          "base_uri": "https://localhost:8080/"
        },
        "id": "6GrCDNEiDXjo",
        "outputId": "897f08f8-2b9b-4733-d10f-40865ec67490"
      },
      "execution_count": 99,
      "outputs": [
        {
          "output_type": "execute_result",
          "data": {
            "text/plain": [
              "employee_id                     0.0\n",
              "no_of_trainings                 0.0\n",
              "age                             0.0\n",
              "previous_year_rating            0.0\n",
              "length_of_service               0.0\n",
              "KPIs_met >80%                   0.0\n",
              "awards_won?                     0.0\n",
              "avg_training_score              0.0\n",
              "department_Finance              0.0\n",
              "department_HR                   0.0\n",
              "department_Legal                0.0\n",
              "department_Operations           0.0\n",
              "department_Procurement          0.0\n",
              "department_R&D                  0.0\n",
              "department_Sales & Marketing    0.0\n",
              "department_Technology           0.0\n",
              "region_region_10                0.0\n",
              "region_region_11                0.0\n",
              "region_region_12                0.0\n",
              "region_region_13                0.0\n",
              "region_region_14                0.0\n",
              "region_region_15                0.0\n",
              "region_region_16                0.0\n",
              "region_region_17                0.0\n",
              "region_region_18                0.0\n",
              "region_region_19                0.0\n",
              "region_region_2                 0.0\n",
              "region_region_20                0.0\n",
              "region_region_21                0.0\n",
              "region_region_22                0.0\n",
              "region_region_23                0.0\n",
              "region_region_24                0.0\n",
              "region_region_25                0.0\n",
              "region_region_26                0.0\n",
              "region_region_27                0.0\n",
              "region_region_28                0.0\n",
              "region_region_29                0.0\n",
              "region_region_3                 0.0\n",
              "region_region_30                0.0\n",
              "region_region_31                0.0\n",
              "region_region_32                0.0\n",
              "region_region_33                0.0\n",
              "region_region_34                0.0\n",
              "region_region_4                 0.0\n",
              "region_region_5                 0.0\n",
              "region_region_6                 0.0\n",
              "region_region_7                 0.0\n",
              "region_region_8                 0.0\n",
              "region_region_9                 0.0\n",
              "education_Below Secondary       0.0\n",
              "education_Master's & above      0.0\n",
              "gender_m                        0.0\n",
              "recruitment_channel_referred    0.0\n",
              "recruitment_channel_sourcing    0.0\n",
              "dtype: float64"
            ]
          },
          "metadata": {},
          "execution_count": 99
        }
      ]
    },
    {
      "cell_type": "code",
      "source": [
        "X_test.isnull().mean()"
      ],
      "metadata": {
        "colab": {
          "base_uri": "https://localhost:8080/"
        },
        "id": "YeCqS_4cDdEK",
        "outputId": "23bea6ce-6c6a-4783-a88f-0f8065d30154"
      },
      "execution_count": 100,
      "outputs": [
        {
          "output_type": "execute_result",
          "data": {
            "text/plain": [
              "employee_id                     0.0\n",
              "no_of_trainings                 0.0\n",
              "age                             0.0\n",
              "previous_year_rating            0.0\n",
              "length_of_service               0.0\n",
              "KPIs_met >80%                   0.0\n",
              "awards_won?                     0.0\n",
              "avg_training_score              0.0\n",
              "department_Finance              0.0\n",
              "department_HR                   0.0\n",
              "department_Legal                0.0\n",
              "department_Operations           0.0\n",
              "department_Procurement          0.0\n",
              "department_R&D                  0.0\n",
              "department_Sales & Marketing    0.0\n",
              "department_Technology           0.0\n",
              "region_region_10                0.0\n",
              "region_region_11                0.0\n",
              "region_region_12                0.0\n",
              "region_region_13                0.0\n",
              "region_region_14                0.0\n",
              "region_region_15                0.0\n",
              "region_region_16                0.0\n",
              "region_region_17                0.0\n",
              "region_region_18                0.0\n",
              "region_region_19                0.0\n",
              "region_region_2                 0.0\n",
              "region_region_20                0.0\n",
              "region_region_21                0.0\n",
              "region_region_22                0.0\n",
              "region_region_23                0.0\n",
              "region_region_24                0.0\n",
              "region_region_25                0.0\n",
              "region_region_26                0.0\n",
              "region_region_27                0.0\n",
              "region_region_28                0.0\n",
              "region_region_29                0.0\n",
              "region_region_3                 0.0\n",
              "region_region_30                0.0\n",
              "region_region_31                0.0\n",
              "region_region_32                0.0\n",
              "region_region_33                0.0\n",
              "region_region_34                0.0\n",
              "region_region_4                 0.0\n",
              "region_region_5                 0.0\n",
              "region_region_6                 0.0\n",
              "region_region_7                 0.0\n",
              "region_region_8                 0.0\n",
              "region_region_9                 0.0\n",
              "education_Below Secondary       0.0\n",
              "education_Master's & above      0.0\n",
              "gender_m                        0.0\n",
              "recruitment_channel_referred    0.0\n",
              "recruitment_channel_sourcing    0.0\n",
              "dtype: float64"
            ]
          },
          "metadata": {},
          "execution_count": 100
        }
      ]
    },
    {
      "cell_type": "code",
      "source": [
        "# def encode_categorical_variables(var, target):\n",
        "#         # make label to risk dictionary\n",
        "#         ordered_labels = train.groupby([var])[target].mean().to_dict()\n",
        "\n",
        "#         # encode variables\n",
        "#         train[var] = train[var].map(ordered_labels)\n",
        "#         test[var] = test[var].map(ordered_labels)\n",
        "#         #submission[var] = submission[var].map(ordered_labels)\n",
        "\n",
        "# # enccode labels in categorical vars\n",
        "# for var in categorical:\n",
        "#     encode_categorical_variables(var, 'is_promoted')"
      ],
      "metadata": {
        "id": "y_PvRTkADiiw"
      },
      "execution_count": 101,
      "outputs": []
    },
    {
      "cell_type": "code",
      "source": [
        "### Feature scaling\n",
        "variables_that_need_scaling = ['department','previous_year_rating','KPIs_met >80%','no_of_trainings', 'age','awards_won?', 'length_of_service','avg_training_score','region_numerical']"
      ],
      "metadata": {
        "id": "PyNlioacEApM"
      },
      "execution_count": 102,
      "outputs": []
    },
    {
      "cell_type": "code",
      "source": [
        "# fit scaler\n",
        "# Feature Scaling\n",
        "from sklearn.preprocessing import StandardScaler\n",
        "sc = StandardScaler()\n",
        "X_train = sc.fit_transform(X_train)\n",
        "X_test = sc.transform(X_test)"
      ],
      "metadata": {
        "id": "XnQFAaoLEYps"
      },
      "execution_count": 103,
      "outputs": []
    },
    {
      "cell_type": "code",
      "source": [
        "from tensorflow.keras.models import Sequential\n",
        "from tensorflow.keras.layers import Dense\n",
        "from tensorflow.keras.layers import LeakyReLU,PReLU,ELU\n",
        "from tensorflow.keras.layers import Dropout\n"
      ],
      "metadata": {
        "id": "rPKWvncWE8lh"
      },
      "execution_count": 104,
      "outputs": []
    },
    {
      "cell_type": "code",
      "source": [
        "# Initialising the ANN\n",
        "classifier = Sequential()\n",
        "# Adding the input layer and the first hidden layer\n",
        "classifier.add(Dense(units=54,activation='relu'))\n",
        "# Adding the input layer and the first hidden layer\n",
        "classifier.add(Dense(units=9,activation='relu'))\n",
        "# Adding the input layer and the first hidden layer\n",
        "classifier.add(Dense(units=1,activation='relu'))"
      ],
      "metadata": {
        "id": "DNEK6oljFdKy"
      },
      "execution_count": 105,
      "outputs": []
    },
    {
      "cell_type": "code",
      "source": [
        "classifier.compile(optimizer='adam',loss='binary_crossentropy',metrics=['accuracy'])"
      ],
      "metadata": {
        "id": "aD9arQ3FFfMK"
      },
      "execution_count": 106,
      "outputs": []
    },
    {
      "cell_type": "code",
      "source": [
        "model_history=classifier.fit(X_train,y_train,validation_split=0.33,batch_size=10,epochs=10)"
      ],
      "metadata": {
        "colab": {
          "base_uri": "https://localhost:8080/"
        },
        "id": "-rGE0nF3HFWP",
        "outputId": "e4960918-0c53-44fb-996b-78fcd39c28ff"
      },
      "execution_count": 107,
      "outputs": [
        {
          "output_type": "stream",
          "name": "stdout",
          "text": [
            "Epoch 1/10\n",
            "2938/2938 [==============================] - 15s 5ms/step - loss: 0.7185 - accuracy: 0.8968 - val_loss: 0.5032 - val_accuracy: 0.8591\n",
            "Epoch 2/10\n",
            "2938/2938 [==============================] - 13s 4ms/step - loss: 0.4703 - accuracy: 0.9049 - val_loss: 0.4479 - val_accuracy: 0.9114\n",
            "Epoch 3/10\n",
            "2938/2938 [==============================] - 21s 7ms/step - loss: 0.3765 - accuracy: 0.9145 - val_loss: 0.3237 - val_accuracy: 0.9183\n",
            "Epoch 4/10\n",
            "2938/2938 [==============================] - 14s 5ms/step - loss: 0.3043 - accuracy: 0.9189 - val_loss: 0.2779 - val_accuracy: 0.9200\n",
            "Epoch 5/10\n",
            "2938/2938 [==============================] - 13s 4ms/step - loss: 0.2659 - accuracy: 0.9225 - val_loss: 0.2777 - val_accuracy: 0.9239\n",
            "Epoch 6/10\n",
            "2938/2938 [==============================] - 13s 5ms/step - loss: 0.2508 - accuracy: 0.9300 - val_loss: 0.2798 - val_accuracy: 0.9319\n",
            "Epoch 7/10\n",
            "2938/2938 [==============================] - 13s 4ms/step - loss: 0.2452 - accuracy: 0.9340 - val_loss: 0.2403 - val_accuracy: 0.9341\n",
            "Epoch 8/10\n",
            "2938/2938 [==============================] - 13s 4ms/step - loss: 0.2259 - accuracy: 0.9360 - val_loss: 0.2555 - val_accuracy: 0.9332\n",
            "Epoch 9/10\n",
            "2938/2938 [==============================] - 15s 5ms/step - loss: 0.2216 - accuracy: 0.9370 - val_loss: 0.2229 - val_accuracy: 0.9355\n",
            "Epoch 10/10\n",
            "2938/2938 [==============================] - 13s 5ms/step - loss: 0.2095 - accuracy: 0.9377 - val_loss: 0.2643 - val_accuracy: 0.9321\n"
          ]
        }
      ]
    },
    {
      "cell_type": "code",
      "source": [
        "print(model_history.history.keys())"
      ],
      "metadata": {
        "colab": {
          "base_uri": "https://localhost:8080/"
        },
        "id": "E3Q85a4dHI22",
        "outputId": "4a561417-77b1-4731-a33e-2abba24fbe34"
      },
      "execution_count": 108,
      "outputs": [
        {
          "output_type": "stream",
          "name": "stdout",
          "text": [
            "dict_keys(['loss', 'accuracy', 'val_loss', 'val_accuracy'])\n"
          ]
        }
      ]
    },
    {
      "cell_type": "code",
      "source": [
        "\n",
        "# summarize history for accuracy\n",
        "plt.plot(model_history.history['accuracy'])\n",
        "plt.plot(model_history.history['val_accuracy'])\n",
        "plt.title('model accuracy')\n",
        "plt.ylabel('accuracy')\n",
        "plt.xlabel('epoch')\n",
        "plt.legend(['train', 'test'], loc='upper left')\n",
        "plt.show()"
      ],
      "metadata": {
        "colab": {
          "base_uri": "https://localhost:8080/",
          "height": 472
        },
        "id": "4t3aVnzwVU4b",
        "outputId": "747bfd30-7cd8-478d-ff81-fcf2c4517af4"
      },
      "execution_count": 109,
      "outputs": [
        {
          "output_type": "display_data",
          "data": {
            "text/plain": [
              "<Figure size 640x480 with 1 Axes>"
            ],
            "image/png": "[encoded data removed]"
          },
          "metadata": {}
        }
      ]
    },
    {
      "cell_type": "code",
      "source": [
        "# summarize history for loss\n",
        "plt.plot(model_history.history['loss'])\n",
        "plt.plot(model_history.history['val_loss'])\n",
        "plt.title('model loss')\n",
        "plt.ylabel('loss')\n",
        "plt.xlabel('epoch')\n",
        "plt.legend(['train', 'test'], loc='upper left')\n",
        "plt.show()"
      ],
      "metadata": {
        "colab": {
          "base_uri": "https://localhost:8080/",
          "height": 472
        },
        "id": "cKSYsAYGVXsP",
        "outputId": "1ae7d13a-a686-40e9-a515-2806eecee29e"
      },
      "execution_count": 110,
      "outputs": [
        {
          "output_type": "display_data",
          "data": {
            "text/plain": [
              "<Figure size 640x480 with 1 Axes>"
            ],
            "image/png": "[encoded data removed]"
          },
          "metadata": {}
        }
      ]
    },
    {
      "cell_type": "code",
      "source": [
        "# Predicting the Test set results\n",
        "y_pred = classifier.predict(X_test)\n",
        "y_pred = (y_pred > 0.5)"
      ],
      "metadata": {
        "colab": {
          "base_uri": "https://localhost:8080/"
        },
        "id": "RKxhF-SIVcu1",
        "outputId": "d7fa691b-a3bc-42d9-ded9-0dd3211d5395"
      },
      "execution_count": 111,
      "outputs": [
        {
          "output_type": "stream",
          "name": "stdout",
          "text": [
            "343/343 [==============================] - 1s 1ms/step\n"
          ]
        }
      ]
    },
    {
      "cell_type": "code",
      "source": [
        "# Making the Confusion Matrix\n",
        "from sklearn.metrics import confusion_matrix\n",
        "cm = confusion_matrix(y_test, y_pred)\n",
        "cm"
      ],
      "metadata": {
        "colab": {
          "base_uri": "https://localhost:8080/"
        },
        "id": "p2sS9_VSVkES",
        "outputId": "86941e0f-45c9-464a-c20b-e0a835f2b6c8"
      },
      "execution_count": 112,
      "outputs": [
        {
          "output_type": "execute_result",
          "data": {
            "text/plain": [
              "array([[10056,     9],\n",
              "       [  691,   206]])"
            ]
          },
          "metadata": {},
          "execution_count": 112
        }
      ]
    },
    {
      "cell_type": "code",
      "source": [
        "# Calculate the Accuracy\n",
        "from sklearn.metrics import accuracy_score\n",
        "score=accuracy_score(y_pred,y_test)\n",
        "score"
      ],
      "metadata": {
        "colab": {
          "base_uri": "https://localhost:8080/"
        },
        "id": "oDhgJPWcYNhf",
        "outputId": "d90a23d0-c644-479f-a988-6a2127038394"
      },
      "execution_count": 113,
      "outputs": [
        {
          "output_type": "execute_result",
          "data": {
            "text/plain": [
              "0.9361430395913155"
            ]
          },
          "metadata": {},
          "execution_count": 113
        }
      ]
    },
    {
      "cell_type": "code",
      "source": [
        "# Initialising the ANN\n",
        "model = Sequential()\n",
        "# Adding the input layer and the first hidden layer\n",
        "model.add(Dense(units=54,activation='relu'))\n",
        "# Adding the input layer and the first hidden layer\n",
        "model.add(Dense(units=11,activation='relu'))\n",
        "# Adding the input layer and the first hidden layer\n",
        "model.add(Dense(units=1,activation='relu'))"
      ],
      "metadata": {
        "id": "xEavoV3cglj8"
      },
      "execution_count": 114,
      "outputs": []
    },
    {
      "cell_type": "code",
      "source": [
        "opt = tf.keras.optimizers.Adam(learning_rate = 0.00026)\n",
        "model.compile(optimizer=opt, loss='binary_crossentropy', metrics=['accuracy'])"
      ],
      "metadata": {
        "id": "KQpIti-Jg12M"
      },
      "execution_count": 115,
      "outputs": []
    },
    {
      "cell_type": "code",
      "source": [
        "earlyStop = tf.keras.callbacks.EarlyStopping(\n",
        "\n",
        "    monitor=\"val_loss\",\n",
        "    min_delta=0.0001,\n",
        "    patience=10,\n",
        "    verbose=1,\n",
        "    mode=\"auto\",\n",
        "    baseline=None,\n",
        "    restore_best_weights=False,\n",
        "\n",
        ")"
      ],
      "metadata": {
        "id": "0vJGuQbEXuIZ"
      },
      "execution_count": 116,
      "outputs": []
    },
    {
      "cell_type": "code",
      "source": [
        "model_history=model.fit(X_train,y_train,validation_split=0.33,batch_size=10,epochs=100, callbacks=earlyStop)"
      ],
      "metadata": {
        "colab": {
          "base_uri": "https://localhost:8080/"
        },
        "id": "ZibRsyZtgkQr",
        "outputId": "4eabe5e9-2e5f-4dc1-9d35-ffe50ce555e4"
      },
      "execution_count": 117,
      "outputs": [
        {
          "output_type": "stream",
          "name": "stdout",
          "text": [
            "Epoch 1/100\n",
            "2938/2938 [==============================] - 16s 5ms/step - loss: 1.3175 - accuracy: 0.9135 - val_loss: 1.2885 - val_accuracy: 0.9141\n",
            "Epoch 2/100\n",
            "2938/2938 [==============================] - 13s 4ms/step - loss: 1.2962 - accuracy: 0.9136 - val_loss: 1.2086 - val_accuracy: 0.9126\n",
            "Epoch 3/100\n",
            "2938/2938 [==============================] - 13s 5ms/step - loss: 1.0141 - accuracy: 0.9032 - val_loss: 0.6796 - val_accuracy: 0.8820\n",
            "Epoch 4/100\n",
            "2938/2938 [==============================] - 13s 4ms/step - loss: 0.6091 - accuracy: 0.8962 - val_loss: 0.5578 - val_accuracy: 0.9070\n",
            "Epoch 5/100\n",
            "2938/2938 [==============================] - 14s 5ms/step - loss: 0.5123 - accuracy: 0.9100 - val_loss: 0.4501 - val_accuracy: 0.9118\n",
            "Epoch 6/100\n",
            "2938/2938 [==============================] - 13s 4ms/step - loss: 0.4429 - accuracy: 0.9090 - val_loss: 0.4001 - val_accuracy: 0.9051\n",
            "Epoch 7/100\n",
            "2938/2938 [==============================] - 13s 5ms/step - loss: 0.4034 - accuracy: 0.9099 - val_loss: 0.4129 - val_accuracy: 0.9154\n",
            "Epoch 8/100\n",
            "2938/2938 [==============================] - 13s 4ms/step - loss: 0.3906 - accuracy: 0.9134 - val_loss: 0.3713 - val_accuracy: 0.9079\n",
            "Epoch 9/100\n",
            "2938/2938 [==============================] - 13s 4ms/step - loss: 0.3657 - accuracy: 0.9153 - val_loss: 0.3839 - val_accuracy: 0.9185\n",
            "Epoch 10/100\n",
            "2938/2938 [==============================] - 15s 5ms/step - loss: 0.3585 - accuracy: 0.9181 - val_loss: 0.3452 - val_accuracy: 0.9023\n",
            "Epoch 11/100\n",
            "2938/2938 [==============================] - 13s 4ms/step - loss: 0.3275 - accuracy: 0.9163 - val_loss: 0.3485 - val_accuracy: 0.9197\n",
            "Epoch 12/100\n",
            "2938/2938 [==============================] - 13s 4ms/step - loss: 0.3161 - accuracy: 0.9206 - val_loss: 0.3335 - val_accuracy: 0.9213\n",
            "Epoch 13/100\n",
            "2938/2938 [==============================] - 16s 5ms/step - loss: 0.3050 - accuracy: 0.9223 - val_loss: 0.3035 - val_accuracy: 0.9208\n",
            "Epoch 14/100\n",
            "2938/2938 [==============================] - 13s 5ms/step - loss: 0.2873 - accuracy: 0.9223 - val_loss: 0.3248 - val_accuracy: 0.9225\n",
            "Epoch 15/100\n",
            "2938/2938 [==============================] - 13s 4ms/step - loss: 0.2739 - accuracy: 0.9237 - val_loss: 0.2894 - val_accuracy: 0.9232\n",
            "Epoch 16/100\n",
            "2938/2938 [==============================] - 13s 4ms/step - loss: 0.2653 - accuracy: 0.9232 - val_loss: 0.3000 - val_accuracy: 0.9214\n",
            "Epoch 17/100\n",
            "2938/2938 [==============================] - 14s 5ms/step - loss: 0.2635 - accuracy: 0.9227 - val_loss: 0.2879 - val_accuracy: 0.9226\n",
            "Epoch 18/100\n",
            "2938/2938 [==============================] - 14s 5ms/step - loss: 0.2527 - accuracy: 0.9255 - val_loss: 0.3003 - val_accuracy: 0.9245\n",
            "Epoch 19/100\n",
            "2938/2938 [==============================] - 13s 5ms/step - loss: 0.2464 - accuracy: 0.9260 - val_loss: 0.2949 - val_accuracy: 0.9225\n",
            "Epoch 20/100\n",
            "2938/2938 [==============================] - 13s 4ms/step - loss: 0.2427 - accuracy: 0.9261 - val_loss: 0.2934 - val_accuracy: 0.9236\n",
            "Epoch 21/100\n",
            "2938/2938 [==============================] - 13s 4ms/step - loss: 0.2425 - accuracy: 0.9283 - val_loss: 0.3131 - val_accuracy: 0.9240\n",
            "Epoch 22/100\n",
            "2938/2938 [==============================] - 16s 5ms/step - loss: 0.2384 - accuracy: 0.9291 - val_loss: 0.2749 - val_accuracy: 0.9268\n",
            "Epoch 23/100\n",
            "2938/2938 [==============================] - 13s 5ms/step - loss: 0.2323 - accuracy: 0.9299 - val_loss: 0.2924 - val_accuracy: 0.9289\n",
            "Epoch 24/100\n",
            "2938/2938 [==============================] - 14s 5ms/step - loss: 0.2305 - accuracy: 0.9326 - val_loss: 0.2670 - val_accuracy: 0.9281\n",
            "Epoch 25/100\n",
            "2938/2938 [==============================] - 13s 4ms/step - loss: 0.2282 - accuracy: 0.9330 - val_loss: 0.2880 - val_accuracy: 0.9307\n",
            "Epoch 26/100\n",
            "2938/2938 [==============================] - 13s 4ms/step - loss: 0.2260 - accuracy: 0.9351 - val_loss: 0.2587 - val_accuracy: 0.9325\n",
            "Epoch 27/100\n",
            "2938/2938 [==============================] - 13s 4ms/step - loss: 0.2231 - accuracy: 0.9366 - val_loss: 0.2621 - val_accuracy: 0.9337\n",
            "Epoch 28/100\n",
            "2938/2938 [==============================] - 13s 4ms/step - loss: 0.2165 - accuracy: 0.9371 - val_loss: 0.2805 - val_accuracy: 0.9326\n",
            "Epoch 29/100\n",
            "2938/2938 [==============================] - 13s 4ms/step - loss: 0.2143 - accuracy: 0.9380 - val_loss: 0.2718 - val_accuracy: 0.9361\n",
            "Epoch 30/100\n",
            "2938/2938 [==============================] - 15s 5ms/step - loss: 0.2157 - accuracy: 0.9383 - val_loss: 0.2793 - val_accuracy: 0.9343\n",
            "Epoch 31/100\n",
            "2938/2938 [==============================] - 13s 4ms/step - loss: 0.2113 - accuracy: 0.9387 - val_loss: 0.2552 - val_accuracy: 0.9352\n",
            "Epoch 32/100\n",
            "2938/2938 [==============================] - 13s 5ms/step - loss: 0.2075 - accuracy: 0.9386 - val_loss: 0.2596 - val_accuracy: 0.9346\n",
            "Epoch 33/100\n",
            "2938/2938 [==============================] - 13s 5ms/step - loss: 0.2073 - accuracy: 0.9394 - val_loss: 0.2626 - val_accuracy: 0.9359\n",
            "Epoch 34/100\n",
            "2938/2938 [==============================] - 16s 5ms/step - loss: 0.2071 - accuracy: 0.9404 - val_loss: 0.2769 - val_accuracy: 0.9368\n",
            "Epoch 35/100\n",
            "2938/2938 [==============================] - 13s 5ms/step - loss: 0.2020 - accuracy: 0.9400 - val_loss: 0.2590 - val_accuracy: 0.9381\n",
            "Epoch 36/100\n",
            "2938/2938 [==============================] - 13s 4ms/step - loss: 0.2047 - accuracy: 0.9405 - val_loss: 0.2875 - val_accuracy: 0.9383\n",
            "Epoch 37/100\n",
            "2938/2938 [==============================] - 13s 4ms/step - loss: 0.2048 - accuracy: 0.9395 - val_loss: 0.2746 - val_accuracy: 0.9375\n",
            "Epoch 38/100\n",
            "2938/2938 [==============================] - 13s 4ms/step - loss: 0.2027 - accuracy: 0.9412 - val_loss: 0.2632 - val_accuracy: 0.9374\n",
            "Epoch 39/100\n",
            "2938/2938 [==============================] - 13s 4ms/step - loss: 0.2021 - accuracy: 0.9407 - val_loss: 0.2561 - val_accuracy: 0.9386\n",
            "Epoch 40/100\n",
            "2938/2938 [==============================] - 13s 4ms/step - loss: 0.2004 - accuracy: 0.9417 - val_loss: 0.2505 - val_accuracy: 0.9388\n",
            "Epoch 41/100\n",
            "2938/2938 [==============================] - 13s 4ms/step - loss: 0.1971 - accuracy: 0.9416 - val_loss: 0.2834 - val_accuracy: 0.9370\n",
            "Epoch 42/100\n",
            "2938/2938 [==============================] - 13s 4ms/step - loss: 0.2035 - accuracy: 0.9415 - val_loss: 0.2711 - val_accuracy: 0.9382\n",
            "Epoch 43/100\n",
            "2938/2938 [==============================] - 13s 4ms/step - loss: 0.2002 - accuracy: 0.9416 - val_loss: 0.2712 - val_accuracy: 0.9382\n",
            "Epoch 44/100\n",
            "2938/2938 [==============================] - 13s 4ms/step - loss: 0.1979 - accuracy: 0.9420 - val_loss: 0.2892 - val_accuracy: 0.9382\n",
            "Epoch 45/100\n",
            "2938/2938 [==============================] - 13s 4ms/step - loss: 0.1979 - accuracy: 0.9415 - val_loss: 0.2748 - val_accuracy: 0.9379\n",
            "Epoch 46/100\n",
            "2938/2938 [==============================] - 14s 5ms/step - loss: 0.1967 - accuracy: 0.9422 - val_loss: 0.2871 - val_accuracy: 0.9377\n",
            "Epoch 47/100\n",
            "2938/2938 [==============================] - 13s 5ms/step - loss: 0.1973 - accuracy: 0.9423 - val_loss: 0.2772 - val_accuracy: 0.9392\n",
            "Epoch 48/100\n",
            "2938/2938 [==============================] - 13s 5ms/step - loss: 0.1954 - accuracy: 0.9420 - val_loss: 0.2907 - val_accuracy: 0.9377\n",
            "Epoch 49/100\n",
            "2938/2938 [==============================] - 13s 5ms/step - loss: 0.1930 - accuracy: 0.9419 - val_loss: 0.2851 - val_accuracy: 0.9381\n",
            "Epoch 50/100\n",
            "2938/2938 [==============================] - 14s 5ms/step - loss: 0.1961 - accuracy: 0.9421 - val_loss: 0.2780 - val_accuracy: 0.9385\n",
            "Epoch 50: early stopping\n"
          ]
        }
      ]
    },
    {
      "cell_type": "code",
      "source": [
        "\n",
        "# summarize history for accuracy\n",
        "plt.plot(model_history.history['accuracy'])\n",
        "plt.plot(model_history.history['val_accuracy'])\n",
        "plt.title('model accuracy')\n",
        "plt.ylabel('accuracy')\n",
        "plt.xlabel('epoch')\n",
        "plt.legend(['train', 'test'], loc='upper left')\n",
        "plt.show()"
      ],
      "metadata": {
        "colab": {
          "base_uri": "https://localhost:8080/",
          "height": 472
        },
        "id": "eccBqOwHiA6w",
        "outputId": "18467114-b895-4e98-abed-ae61387d8036"
      },
      "execution_count": 118,
      "outputs": [
        {
          "output_type": "display_data",
          "data": {
            "text/plain": [
              "<Figure size 640x480 with 1 Axes>"
            ],
            "image/png": "[encoded data removed]"
          },
          "metadata": {}
        }
      ]
    },
    {
      "cell_type": "code",
      "source": [
        "# summarize history for loss\n",
        "plt.plot(model_history.history['loss'])\n",
        "plt.plot(model_history.history['val_loss'])\n",
        "plt.title('model loss')\n",
        "plt.ylabel('loss')\n",
        "plt.xlabel('epoch')\n",
        "plt.legend(['train', 'test'], loc='upper left')\n",
        "plt.show()"
      ],
      "metadata": {
        "colab": {
          "base_uri": "https://localhost:8080/",
          "height": 472
        },
        "id": "5buTm14InHSo",
        "outputId": "5a39cc8f-217d-4a2a-d96b-253ee4cd67c4"
      },
      "execution_count": 119,
      "outputs": [
        {
          "output_type": "display_data",
          "data": {
            "text/plain": [
              "<Figure size 640x480 with 1 Axes>"
            ],
            "image/png": "[encoded data removed]"
          },
          "metadata": {}
        }
      ]
    },
    {
      "cell_type": "code",
      "source": [
        "# Predicting the Test set results\n",
        "y_pred = model.predict(X_test)\n",
        "y_pred = (y_pred > 0.5)\n",
        "# Making the Confusion Matrix\n",
        "from sklearn.metrics import confusion_matrix\n",
        "cm = confusion_matrix(y_test, y_pred)\n",
        "cm"
      ],
      "metadata": {
        "colab": {
          "base_uri": "https://localhost:8080/"
        },
        "id": "CzQL-0dDnPj2",
        "outputId": "523de290-d68c-45d2-b32b-c72e89442536"
      },
      "execution_count": 120,
      "outputs": [
        {
          "output_type": "stream",
          "name": "stdout",
          "text": [
            "343/343 [==============================] - 1s 2ms/step\n"
          ]
        },
        {
          "output_type": "execute_result",
          "data": {
            "text/plain": [
              "array([[10001,    64],\n",
              "       [  613,   284]])"
            ]
          },
          "metadata": {},
          "execution_count": 120
        }
      ]
    },
    {
      "cell_type": "code",
      "source": [
        "# Calculate the Accuracy\n",
        "from sklearn.metrics import accuracy_score\n",
        "score=accuracy_score(y_pred,y_test)\n",
        "score"
      ],
      "metadata": {
        "colab": {
          "base_uri": "https://localhost:8080/"
        },
        "id": "4VawkQIxnP9q",
        "outputId": "5f0ed64f-a6f7-4f79-d96f-f43e74e1bada"
      },
      "execution_count": 121,
      "outputs": [
        {
          "output_type": "execute_result",
          "data": {
            "text/plain": [
              "0.9382411968618866"
            ]
          },
          "metadata": {},
          "execution_count": 121
        }
      ]
    },
    {
      "cell_type": "code",
      "source": [],
      "metadata": {
        "id": "spftLFtsnlHF"
      },
      "execution_count": 121,
      "outputs": []
    }
  ]
}